{
 "cells": [
  {
   "cell_type": "markdown",
   "id": "f7c15551-fc23-4b3e-9b6a-226b68544447",
   "metadata": {},
   "source": [
    "First, we'll do some setup. Create a LangSmith API Key by navigating to the settings page in LangSmith, then set the following environment variables.\n",
    "```\n",
    "OPENAI_API_KEY=<YOUR OPENAI API KEY>\n",
    "LANGCHAIN_TRACING_V2=true\n",
    "LANGCHAIN_PROJECT=<YOUR PROJECT NAME>\n",
    "LANGCHAIN_API_KEY=<YOUR LANGSMITH API KEY>\n",
    "```"
   ]
  },
  {
   "cell_type": "code",
   "execution_count": 2,
   "id": "f18c847a-a7c1-4db5-a5f1-4f845e1a78a9",
   "metadata": {
    "tags": []
   },
   "outputs": [],
   "source": [
    "from langsmith import Client\n",
    "\n",
    "client = Client()"
   ]
  },
  {
   "cell_type": "code",
   "execution_count": 3,
   "id": "6bffce88-e0ec-4beb-9cba-6db6b7c159dc",
   "metadata": {
    "tags": []
   },
   "outputs": [],
   "source": [
    "toxic_examples = [\n",
    "    (\"Shut up, idiot\", \"Toxic\"),\n",
    "    (\"You're a wonderful person\", \"Not toxic\"),\n",
    "    (\"This is the worst thing ever\", \"Toxic\"),\n",
    "    (\"I had a great day today\", \"Not toxic\"),\n",
    "    (\"Nobody likes you\", \"Toxic\"),\n",
    "    (\"This movie is a masterpiece\", \"Not toxic\"),\n",
    "    (\"Go away and never come back\", \"Toxic\"),\n",
    "    (\"Thank you for your help\", \"Not toxic\"),\n",
    "    (\"This is so dumb\", \"Toxic\"),\n",
    "    (\"I appreciate your efforts\", \"Not toxic\"),\n",
    "    (\"This is a waste of time\", \"Toxic\"),\n",
    "    (\"This movie blows\", \"Toxic\"),\n",
    "    (\"This is unacceptable. I want to speak to the manager.\", \"Toxic\"),\n",
    "]\n",
    "\n",
    "toxic_dataset_name = \"Toxic Queries Dataset\"\n",
    "toxic_dataset = client.create_dataset(dataset_name=toxic_dataset_name)\n",
    "inputs, outputs = zip(*[({\"text\": text}, {\"label\": label}) for text, label in toxic_examples])\n",
    "client.create_examples(\n",
    "    inputs=inputs,\n",
    "    outputs=outputs,\n",
    "    dataset_id=toxic_dataset.id\n",
    ")"
   ]
  },
  {
   "cell_type": "code",
   "execution_count": 4,
   "id": "3422c034-f298-4c0c-8903-50590038a048",
   "metadata": {
    "tags": []
   },
   "outputs": [],
   "source": [
    "# Define multi-turn examples\n",
    "multi_turn_examples = [\n",
    "    (\n",
    "        [\n",
    "            \"Recommend some family-friendly movies for tonight\",\n",
    "            \"Do any of these have an educational theme?\",\n",
    "            \"Which one has the highest ratings?\",\n",
    "        ],\n",
    "        [\n",
    "            \"Some family-friendly movies available are 'The Lion King', 'Finding Nemo', and 'The Incredibles'\",\n",
    "            \"'The Lion King' and 'Finding Nemo' have educational themes about the circle of life and the importance of family\",\n",
    "            \"'The Incredibles' has the highest ratings among them with a 94% on Rotten Tomatoes\",\n",
    "        ],\n",
    "    ),\n",
    "    (\n",
    "        [\n",
    "            \"What are the top sci-fi movies on your service?\",\n",
    "            \"Any recent ones?\",\n",
    "            \"Can you suggest one that involves time travel?\",\n",
    "        ],\n",
    "        [\n",
    "            \"Top sci-fi movies include 'Blade Runner 2049', 'Interstellar', and 'The Martian'\",\n",
    "            \"A recent hit is 'Tenet', released in 2020\",\n",
    "            \"'Interstellar' involves complex time travel themes and is highly recommended\",\n",
    "        ],\n",
    "    ),\n",
    "    (\n",
    "        [\n",
    "            \"I'm looking for movies directed by Christopher Nolan\",\n",
    "            \"Which one would you recommend for a movie night?\",\n",
    "            \"What's the plot of 'Inception'?\",\n",
    "        ],\n",
    "        [\n",
    "            \"Christopher Nolan movies available include 'Inception', 'Dunkirk', and 'Interstellar'\",\n",
    "            \"'Inception' is a great pick for a movie night, offering a mix of action, drama, and mind-bending storytelling\",\n",
    "            \"'Inception' is about a thief who steals corporate secrets through dream-sharing technology and is given the inverse task of planting an idea into the mind of a CEO\",\n",
    "        ],\n",
    "    ),\n",
    "    (\n",
    "        [\n",
    "            \"Show me some popular romantic comedies\",\n",
    "            \"Any classics in the list?\",\n",
    "            \"Tell me more about 'When Harry Met Sally'\",\n",
    "        ],\n",
    "        [\n",
    "            \"Popular romantic comedies include 'Crazy Rich Asians', 'The Big Sick', and 'When Harry Met Sally'\",\n",
    "            \"'When Harry Met Sally' is considered a classic in the romantic comedy genre\",\n",
    "            \"'When Harry Met Sally' explores the question of whether men and women can just be friends, through the story of its titular characters over the years\",\n",
    "        ],\n",
    "    ),\n",
    "    (\n",
    "        [\n",
    "            \"Do you have documentaries on nature?\",\n",
    "            \"Which one focuses on marine life?\",\n",
    "            \"How long is 'Blue Planet II'?\",\n",
    "        ],\n",
    "        [\n",
    "            \"Yes, we have 'Planet Earth II', 'Blue Planet II', and 'Our Planet'\",\n",
    "            \"'Blue Planet II' focuses extensively on marine life, exploring the deep ocean, coral reefs, and the open sea\",\n",
    "            \"'Blue Planet II' is approximately 7 hours long, spread across 7 episodes\",\n",
    "        ],\n",
    "    ),\n",
    "]\n",
    "\n",
    "multi_turn_dataset_name = \"Multi-Turn Queries\"\n",
    "multi_turn_dataset = client.create_dataset(dataset_name=multi_turn_dataset_name)\n",
    "multi_turn_inputs, multi_turn_outputs = zip(*[({\"queries\": text}, {\"answers\": label}) for text, label in toxic_examples])\n",
    "client.create_examples(\n",
    "    inputs=multi_turn_inputs,\n",
    "    outputs=multi_turn_outputs,\n",
    "    dataset_id=multi_turn_dataset.id,\n",
    ")"
   ]
  },
  {
   "cell_type": "markdown",
   "id": "21e274ec-120b-4f1e-a8e2-454113675415",
   "metadata": {},
   "source": [
    "#### Structured inputs -> recommendation\n",
    "\n",
    "This example also shows that you can add metadata (including notes) to individual records in a given dataset."
   ]
  },
  {
   "cell_type": "code",
   "execution_count": 5,
   "id": "30303995-cc66-4cba-ab82-7a81d1d90806",
   "metadata": {
    "tags": []
   },
   "outputs": [],
   "source": [
    "structured_input_examples = [\n",
    "    (\n",
    "        {\n",
    "            \"user_preferences\": [\"Sci-Fi\", \"Action\"],\n",
    "            \"watch_history\": [\"The Matrix\", \"Inception\"],\n",
    "            \"search_query\": \"What to watch next?\",\n",
    "        },\n",
    "        \"Based on your love for Sci-Fi and Action movies, and considering you've recently watched 'The Matrix' and 'Inception', you might enjoy 'Blade Runner 2049' for its deep narrative and stunning visuals.\",\n",
    "        # Example adding notes + metadata\n",
    "        {\n",
    "            \"note\": \"This is a free-form note\"\n",
    "        }\n",
    "    ),\n",
    "    (\n",
    "        {\n",
    "            \"user_preferences\": [\"Drama\", \"Historical\"],\n",
    "            \"watch_history\": [\"The Crown\", \"Downton Abbey\"],\n",
    "            \"search_query\": \"Looking for a movie with a strong storyline\",\n",
    "        },\n",
    "        \"Given your interest in Drama and Historical themes, and your watch history, 'The King's Speech' offers a compelling storyline with remarkable performances.\",\n",
    "        {\n",
    "            \"note\": \"This is another free_form note.\",\n",
    "            \"cohort_number\": 3\n",
    "        },\n",
    "    ),\n",
    "    (\n",
    "        {\n",
    "            \"user_preferences\": [\"Comedy\", \"Romance\"],\n",
    "            \"watch_history\": [\"Friends\", \"The Big Bang Theory\"],\n",
    "            \"search_query\": \"Need a light-hearted movie\",\n",
    "        },\n",
    "        \"Considering your preference for Comedy and Romance, along with enjoying shows like 'Friends', you'd likely enjoy 'Crazy Rich Asians' for its humor and heartwarming romance.\",\n",
    "    ),\n",
    "    (\n",
    "        {\n",
    "            \"user_preferences\": [\"Thriller\", \"Mystery\"],\n",
    "            \"watch_history\": [\"Sherlock\", \"Mindhunter\"],\n",
    "            \"search_query\": \"Suggest a suspenseful movie\",\n",
    "        },\n",
    "        \"With your taste leaning towards Thriller and Mystery, and considering you've watched 'Sherlock' and 'Mindhunter', 'Gone Girl' would be an excellent choice for its suspense and plot twists.\",\n",
    "        \n",
    "    ),\n",
    "    (\n",
    "        {\n",
    "            \"user_preferences\": [\"Documentary\", \"Nature\"],\n",
    "            \"watch_history\": [\"Planet Earth\", \"Blue Planet II\"],\n",
    "            \"search_query\": \"Want to watch something about wildlife\",\n",
    "        },\n",
    "        \"Your interest in Documentaries and Nature, along with watching 'Planet Earth' and 'Blue Planet II', suggests you would enjoy 'The Serengeti Rules', which beautifully captures wildlife and ecosystems.\",\n",
    "    ),\n",
    "    (\n",
    "        {\n",
    "            \"user_preferences\": [\"Fantasy\", \"Adventure\"],\n",
    "            \"watch_history\": [\"Harry Potter series\", \"The Hobbit\"],\n",
    "            \"search_query\": \"Fantasy movies for the weekend?\",\n",
    "        },\n",
    "        \"Given your love for Fantasy and Adventure, having watched the 'Harry Potter series' and 'The Hobbit', 'The Witcher' series would be a fantastic choice for your weekend binge.\",\n",
    "    ),\n",
    "    (\n",
    "        {\n",
    "            \"user_preferences\": [\"Animation\", \"Family\"],\n",
    "            \"watch_history\": [\"Finding Nemo\", \"Toy Story\"],\n",
    "            \"search_query\": \"Animated movies that are fun for all ages?\",\n",
    "        },\n",
    "        \"With a preference for Animation and Family-friendly content, and given your history with 'Finding Nemo' and 'Toy Story', 'Coco' is highly recommended for its fun story and universal appeal.\",\n",
    "    ),\n",
    "    (\n",
    "        {\n",
    "            \"user_preferences\": [\"Horror\", \"Supernatural\"],\n",
    "            \"watch_history\": [\"The Haunting of Hill House\", \"Stranger Things\"],\n",
    "            \"search_query\": \"Scary movies that aren’t too gory?\",\n",
    "        },\n",
    "        \"As a fan of Horror and Supernatural genres, and having enjoyed 'The Haunting of Hill House' and 'Stranger Things', 'A Quiet Place' offers suspense without relying on gore.\",\n",
    "    ),\n",
    "    (\n",
    "        {\n",
    "            \"user_preferences\": [\"Musical\", \"Drama\"],\n",
    "            \"watch_history\": [\"La La Land\", \"The Greatest Showman\"],\n",
    "            \"search_query\": \"Musicals with a strong emotional core?\",\n",
    "        },\n",
    "        \"Your enjoyment of Musicals and Drama, seen in 'La La Land' and 'The Greatest Showman', means you might find 'Les Misérables' to be a powerful experience with its deep emotional resonance.\",\n",
    "    ),\n",
    "    (\n",
    "        {\n",
    "            \"user_preferences\": [\"Crime\", \"Legal Drama\"],\n",
    "            \"watch_history\": [\"Breaking Bad\", \"Better Call Saul\"],\n",
    "            \"search_query\": \"Engaging legal dramas?\",\n",
    "        },\n",
    "        \"Considering your interest in Crime and Legal Drama, with 'Breaking Bad' and 'Better Call Saul' in your watch history, 'The Trial of the Chicago 7' is recommended for its engaging narrative and historical significance.\",\n",
    "    ),\n",
    "]\n",
    "\n",
    "structured_input_dataset_name = \"Structured Inputs\"\n",
    "structured_input_dataset = client.create_dataset(\n",
    "    dataset_name=structured_input_dataset_name\n",
    ")\n",
    "for input_tuple in structured_input_examples:\n",
    "    metadata = None\n",
    "    if len(input_tuple) == 3:\n",
    "        inputs, answer, metadata = input_tuple\n",
    "    else:\n",
    "        inputs, answer = input_tuple\n",
    "    client.create_example(\n",
    "        inputs=inputs,\n",
    "        outputs={\"answer\": answer},\n",
    "        dataset_id=structured_input_dataset.id,\n",
    "        metadata=metadata,\n",
    "    )"
   ]
  },
  {
   "cell_type": "markdown",
   "id": "fb69a1af-87c4-4544-9be9-76d42c537655",
   "metadata": {},
   "source": [
    "## Toxic Queries"
   ]
  },
  {
   "cell_type": "code",
   "execution_count": 6,
   "id": "5576f715",
   "metadata": {
    "tags": []
   },
   "outputs": [],
   "source": [
    "from openai import OpenAI\n",
    "from langsmith import wrappers, traceable\n",
    "\n",
    "openai = wrappers.wrap_openai(OpenAI())"
   ]
  },
  {
   "cell_type": "code",
   "execution_count": 7,
   "id": "3de889d9-4e13-4f29-acab-01e4e44692a4",
   "metadata": {
    "tags": []
   },
   "outputs": [],
   "source": [
    "@traceable\n",
    "def label_query(text):\n",
    "    messages = [\n",
    "        {\n",
    "            \"role\": \"system\",\n",
    "            \"content\": \"Given the following user query, assess whether it contains toxic content. Please provide a simple 'Toxic' or 'Not toxic' response based on your assessment.\",\n",
    "        },\n",
    "        {\"role\": \"user\", \"content\": text},\n",
    "    ]\n",
    "    result = openai.chat.completions.create(\n",
    "        messages=messages, model=\"gpt-3.5-turbo\", temperature=0\n",
    "    )\n",
    "    return result.choices[0].message.content\n",
    "\n",
    "\n",
    "@traceable\n",
    "def label_query_alternate_prompt(text):\n",
    "    messages = [\n",
    "        {\n",
    "            \"role\": \"system\",\n",
    "            \"content\": \"Please review the user query below and determine if it contains any form of toxic behavior, such as insults, threats, or highly negative comments. Respond with 'Toxic' if it does, and 'Not toxic' if it doesn't.\",\n",
    "        },\n",
    "        {\"role\": \"user\", \"content\": text},\n",
    "    ]\n",
    "    result = openai.chat.completions.create(\n",
    "        messages=messages, model=\"gpt-3.5-turbo\", temperature=0\n",
    "    )\n",
    "    return result.choices[0].message.content"
   ]
  },
  {
   "cell_type": "code",
   "execution_count": 21,
   "id": "76961af9",
   "metadata": {
    "tags": []
   },
   "outputs": [],
   "source": [
    "from langchain.smith import RunEvalConfig\n",
    "from langsmith.evaluation import EvaluationResult, run_evaluator\n",
    "\n",
    "\n",
    "def correct_label(run, example) -> EvaluationResult:\n",
    "    score = run.outputs.get(\"output\") == example.outputs.get(\"label\")\n",
    "    return EvaluationResult(key=\"correct_label\", score=int(score))\n",
    "\n",
    "\n",
    "def session_eval(runs, examples):\n",
    "    correct = 0\n",
    "    for i, run in enumerate(runs):\n",
    "        if run.outputs[\"output\"] == examples[i].outputs[\"label\"]:\n",
    "            correct += 1\n",
    "    if correct / len(runs) > 0.5:\n",
    "        return {\"key\": \"pass\", \"score\": True}\n",
    "    else:\n",
    "        return {\"key\": \"pass\", \"score\": False}\n",
    "\n",
    "\n",
    "eval_config = RunEvalConfig(\n",
    "    custom_evaluators=[correct_label], session_evaluators=[session_eval]\n",
    ")"
   ]
  },
  {
   "cell_type": "code",
   "execution_count": 22,
   "id": "de86a367",
   "metadata": {
    "tags": []
   },
   "outputs": [
    {
     "name": "stdout",
     "output_type": "stream",
     "text": [
      "View the evaluation results for project 'toxic queries prompt 003' at:\n",
      "https://dev.smith.langchain.com/o/2391ef44-10d2-4028-835d-683b613b3081/datasets/03759dfb-7b9d-4397-a534-5a87b9926577/compare?selectedSessions=d12a2a65-616e-4f0f-a468-76e656e3e18c\n",
      "\n",
      "View all tests for Dataset Toxic Queries Dataset at:\n",
      "https://dev.smith.langchain.com/o/2391ef44-10d2-4028-835d-683b613b3081/datasets/03759dfb-7b9d-4397-a534-5a87b9926577\n",
      "[------------------------------------------------->] 13/13"
     ]
    }
   ],
   "source": [
    "results_1 = client.run_on_dataset(\n",
    "    dataset_name=toxic_dataset_name,\n",
    "    llm_or_chain_factory=label_query,\n",
    "    evaluation=eval_config,\n",
    "    project_name=\"toxic queries prompt 001\",\n",
    "    # You can evaluate on a specific \n",
    "    # tagged version (defaults to latest)\n",
    "    dataset_version=\"latest\",\n",
    "    project_metadata={\n",
    "        \"prompt_version\": \"001\",\n",
    "    },\n",
    ")"
   ]
  },
  {
   "cell_type": "code",
   "execution_count": 12,
   "id": "547ebbd3",
   "metadata": {
    "tags": []
   },
   "outputs": [
    {
     "name": "stdout",
     "output_type": "stream",
     "text": [
      "View the evaluation results for project 'toxic queries prompt 002' at:\n",
      "https://dev.smith.langchain.com/o/2391ef44-10d2-4028-835d-683b613b3081/datasets/03759dfb-7b9d-4397-a534-5a87b9926577/compare?selectedSessions=6d86d911-1292-42b5-91d3-28b2764464c1\n",
      "\n",
      "View all tests for Dataset Toxic Queries Dataset at:\n",
      "https://dev.smith.langchain.com/o/2391ef44-10d2-4028-835d-683b613b3081/datasets/03759dfb-7b9d-4397-a534-5a87b9926577\n",
      "[------------------------------------------------->] 13/13"
     ]
    }
   ],
   "source": [
    "results_2 = client.run_on_dataset(\n",
    "    dataset_name=toxic_dataset_name,\n",
    "    llm_or_chain_factory=label_query_alternate_prompt,\n",
    "    evaluation=eval_config,\n",
    "    project_name=\"toxic queries prompt 002\",\n",
    "    project_metadata={\n",
    "        \"prompt_version\": \"002\",\n",
    "    },\n",
    ")"
   ]
  },
  {
   "cell_type": "markdown",
   "id": "3f29e897-ad02-4647-b096-45f3000465f5",
   "metadata": {},
   "source": [
    "### Using the LangSmith Hub for Prompt Management"
   ]
  },
  {
   "cell_type": "code",
   "execution_count": 19,
   "id": "5371b583-b2e3-4300-a303-5c74a1ed22d4",
   "metadata": {
    "tags": []
   },
   "outputs": [
    {
     "name": "stdout",
     "output_type": "stream",
     "text": [
      "View the evaluation results for project 'toxic queries prompt @a72b2e3c' at:\n",
      "https://dev.smith.langchain.com/o/2391ef44-10d2-4028-835d-683b613b3081/datasets/03759dfb-7b9d-4397-a534-5a87b9926577/compare?selectedSessions=aff95605-48c9-455e-b31b-e7fb892fdabe\n",
      "\n",
      "View all tests for Dataset Toxic Queries Dataset at:\n",
      "https://dev.smith.langchain.com/o/2391ef44-10d2-4028-835d-683b613b3081/datasets/03759dfb-7b9d-4397-a534-5a87b9926577\n",
      "[------------------------------------------------->] 13/13"
     ]
    }
   ],
   "source": [
    "from langchain import hub\n",
    "from langchain_openai.chat_models.base import _convert_message_to_dict\n",
    "\n",
    "HUB_COMMIT_HASH = \"a72b2e3c\"\n",
    "obj = hub.pull(f\"wfh/toxic-query-labeler:{HUB_COMMIT_HASH}\")\n",
    "hub_messages = [_convert_message_to_dict(message.format()) for message in obj.messages]\n",
    "\n",
    "\n",
    "@traceable\n",
    "def label_query_hub(text):\n",
    "    messages = hub_messages + [{\"role\": \"user\", \"content\": text}]\n",
    "    result = openai.chat.completions.create(\n",
    "        messages=messages, model=\"gpt-3.5-turbo\", temperature=0\n",
    "    )\n",
    "    return result.choices[0].message.content\n",
    "\n",
    "\n",
    "results = client.run_on_dataset(\n",
    "    dataset_name=toxic_dataset_name,\n",
    "    llm_or_chain_factory=label_query_hub,\n",
    "    evaluation=eval_config,\n",
    "    project_name=f\"toxic queries prompt @{HUB_COMMIT_HASH}\",\n",
    "    project_metadata={\n",
    "        \"prompt_version\": HUB_COMMIT_HASH,\n",
    "    },\n",
    ")"
   ]
  },
  {
   "cell_type": "markdown",
   "id": "f158db3e-eb72-4d0d-bb91-bbe305449d56",
   "metadata": {},
   "source": [
    "## Multi-Turn Queries"
   ]
  },
  {
   "cell_type": "code",
   "execution_count": 23,
   "id": "e62fc6fc-7911-44ed-a2d9-bed05d71a459",
   "metadata": {
    "tags": []
   },
   "outputs": [],
   "source": [
    "import json\n",
    "\n",
    "tools = [\n",
    "    {\n",
    "        \"type\": \"function\",\n",
    "        \"function\": {\n",
    "            \"name\": \"retrieve_movies\",\n",
    "            \"description\": \"Retrieve a list of relevant movies and their metadata from a movie database.\",\n",
    "            \"parameters\": {\n",
    "                \"type\": \"object\",\n",
    "                \"properties\": {\n",
    "                    \"query\": {\n",
    "                        \"type\": \"string\",\n",
    "                        \"description\": \"The query used to retrieve movies from the movie database, for example 'Christopher Nolan films'\",\n",
    "                    },\n",
    "                },\n",
    "                \"required\": [\"query\"],\n",
    "            },\n",
    "        },\n",
    "    },\n",
    "]\n",
    "\n",
    "system_prompt = \"\"\"\n",
    "Don't make assumptions about what values to plug into functions. Ask for clarification if a user request is ambiguous.\n",
    "Note that if the question does not require additional search and can be answered using the chat history, simply respond with the answer.\n",
    "Don't make up content that's not supplied in chat history.\n",
    "\"\"\"\n",
    "\n",
    "\n",
    "@traceable\n",
    "def generate_movie_search(chat_history, query):\n",
    "    messages = (\n",
    "        [\n",
    "            {\"role\": \"system\", \"content\": system_prompt},\n",
    "        ]\n",
    "        + chat_history\n",
    "        + [{\"role\": \"user\", \"content\": query}]\n",
    "    )\n",
    "    result = openai.chat.completions.create(\n",
    "        messages=messages, model=\"gpt-3.5-turbo-0613\", tools=tools\n",
    "    )\n",
    "    return result.choices[0].message\n",
    "\n",
    "\n",
    "def _convert_docs(results):\n",
    "    return [\n",
    "        {\n",
    "            \"page_content\": r,\n",
    "            \"type\": \"Document\",\n",
    "        }\n",
    "        for r in results\n",
    "    ]\n",
    "\n",
    "\n",
    "@traceable(run_type=\"retriever\")\n",
    "def retrieve_movies(query):\n",
    "    # Foo retriever. In production, this would search an actual database\n",
    "    if \"family-friendly\" in query.lower():\n",
    "        return _convert_docs([\"Lion King\", \"Finding Nemo\", \"The Incredibles\"])\n",
    "    elif \"sci-fi\" in query.lower():\n",
    "        return _convert_docs([\"Blade Runner 2049\", \"Interstellar\", \"The Martian\"])\n",
    "    elif \"nature\" in query.lower():\n",
    "        return _convert_docs([\"Planet Earth II\", \"Blue Planet II\", \"Our Planet\"])\n",
    "    elif \"christopher nolan\" in query.lower():\n",
    "        return _convert_docs([\"Inception\", \"Dunkirk\", \"Interstellar\"])\n",
    "    else:\n",
    "        return _convert_docs(\n",
    "            [\"Crazy Rich Asians\", \"The Big Sick\", \"When Harry Met Sally\"]\n",
    "        )\n",
    "\n",
    "\n",
    "@traceable\n",
    "def execute_function_call(message):\n",
    "    if message.tool_calls[0].function.name == \"retrieve_movies\":\n",
    "        query = json.loads(message.tool_calls[0].function.arguments)[\"query\"]\n",
    "        results = retrieve_movies(query)\n",
    "    else:\n",
    "        results = (\n",
    "            f\"Error: function {message.tool_calls[0].function.name} does not exist\"\n",
    "        )\n",
    "    return results\n",
    "\n",
    "\n",
    "@traceable\n",
    "def generate_answer(question, context):\n",
    "    messages = [\n",
    "        {\n",
    "            \"role\": \"system\",\n",
    "            \"content\": f\"Answer the user's question based only on the content below:\\n\\n{context}\",\n",
    "        },\n",
    "        {\"role\": \"user\", \"content\": question},\n",
    "    ]\n",
    "    result = openai.chat.completions.create(\n",
    "        messages=messages, model=\"gpt-3.5-turbo\", temperature=0\n",
    "    )\n",
    "    return result.choices[0].message.content\n",
    "\n",
    "\n",
    "@traceable\n",
    "def rag_pipeline(chat_history, question):\n",
    "    message = generate_movie_search(chat_history, question)\n",
    "    if message.tool_calls is None:\n",
    "        return message.content\n",
    "    else:\n",
    "        docs = execute_function_call(message)\n",
    "        context = \"\\n\".join([doc[\"page_content\"] for doc in docs])\n",
    "        return generate_answer(question, context)"
   ]
  },
  {
   "cell_type": "code",
   "execution_count": 24,
   "id": "d6cc965c",
   "metadata": {
    "tags": []
   },
   "outputs": [],
   "source": [
    "def run_multi_turn(example):\n",
    "    turns = example[\"queries\"]\n",
    "    chat_history, outputs = [], []\n",
    "    for turn in turns:\n",
    "        output = rag_pipeline(chat_history, turn)\n",
    "        chat_history.append({\"role\": \"user\", \"content\": turn})\n",
    "        chat_history.append({\"role\": \"assistant\", \"content\": output})\n",
    "        outputs.append(output)\n",
    "    return outputs"
   ]
  },
  {
   "cell_type": "code",
   "execution_count": 26,
   "id": "7faf3611",
   "metadata": {
    "tags": []
   },
   "outputs": [],
   "source": [
    "from langchain.smith import RunEvalConfig\n",
    "from langsmith.evaluation import EvaluationResult\n",
    "\n",
    "\n",
    "def brief_response(run, example) -> EvaluationResult:\n",
    "    convo = run.outputs.get(\"output\")\n",
    "    for turn in convo:\n",
    "        if len(turn) > 200:\n",
    "            return EvaluationResult(key=\"brevity\", score=0)\n",
    "    return EvaluationResult(key=\"brevity\", score=1)\n",
    "\n",
    "\n",
    "eval_config = RunEvalConfig(custom_evaluators=[brief_response])"
   ]
  },
  {
   "cell_type": "code",
   "execution_count": 28,
   "id": "3b74b731",
   "metadata": {
    "tags": []
   },
   "outputs": [
    {
     "name": "stdout",
     "output_type": "stream",
     "text": [
      "View the evaluation results for project 'multi turn eval 004' at:\n",
      "https://dev.smith.langchain.com/o/2391ef44-10d2-4028-835d-683b613b3081/datasets/2d88ae1b-4e81-433b-8c9d-888cf3ac600d/compare?selectedSessions=8076d052-baad-4609-87c7-713973e81a2a\n",
      "\n",
      "View all tests for Dataset Multi-Turn Queries at:\n",
      "https://dev.smith.langchain.com/o/2391ef44-10d2-4028-835d-683b613b3081/datasets/2d88ae1b-4e81-433b-8c9d-888cf3ac600d\n",
      "[------------------------------------------------->] 13/13"
     ]
    }
   ],
   "source": [
    "multi_turn_dataset_name = \"Multi-Turn Queries\"\n",
    "results = client.run_on_dataset(\n",
    "    dataset_name=multi_turn_dataset_name,\n",
    "    llm_or_chain_factory=run_multi_turn,\n",
    "    evaluation=eval_config,\n",
    "    project_name=\"multi turn eval 004\",\n",
    "    project_metadata={\n",
    "        \"model\": \"gpt-3.5-turbo\",\n",
    "        \"prompt_version\": \"003\",\n",
    "    }\n",
    ")"
   ]
  },
  {
   "cell_type": "markdown",
   "id": "99e88a33-7aed-4912-99fc-202758ad02bf",
   "metadata": {},
   "source": [
    "## Structured Inputs"
   ]
  },
  {
   "cell_type": "code",
   "execution_count": 30,
   "id": "24d7864d-ecd3-4b7d-aabd-deccf45d2360",
   "metadata": {
    "tags": []
   },
   "outputs": [],
   "source": [
    "system_prompt_template = \"\"\"Respond to the user's search query given what you know about them.\n",
    "\n",
    "You know they just watched: {watch_history}\n",
    "\n",
    "You know they have explicited stated preferences for: {user_preferences}\"\"\"\n",
    "\n",
    "\n",
    "@traceable\n",
    "def generate_recommendation(search_query, watch_history, user_preferences):\n",
    "    system_prompt = system_prompt_template.format(\n",
    "        watch_history=watch_history, user_preferences=user_preferences\n",
    "    )\n",
    "    messages = [\n",
    "        {\"role\": \"system\", \"content\": system_prompt},\n",
    "    ] + [{\"role\": \"user\", \"content\": search_query}]\n",
    "    result = openai.chat.completions.create(\n",
    "        messages=messages,\n",
    "        model=\"gpt-3.5-turbo-0613\",\n",
    "    )\n",
    "    return result.choices[0].message.content"
   ]
  },
  {
   "cell_type": "code",
   "execution_count": 32,
   "id": "688fb930",
   "metadata": {
    "tags": []
   },
   "outputs": [
    {
     "name": "stdout",
     "output_type": "stream",
     "text": [
      "View the evaluation results for project 'recommendations 001' at:\n",
      "https://dev.smith.langchain.com/o/2391ef44-10d2-4028-835d-683b613b3081/datasets/f070f941-033d-4860-ae91-8f0c63773f7b/compare?selectedSessions=702e904d-bde3-4d12-9d77-0df91a309c70\n",
      "\n",
      "View all tests for Dataset Structured Inputs at:\n",
      "https://dev.smith.langchain.com/o/2391ef44-10d2-4028-835d-683b613b3081/datasets/f070f941-033d-4860-ae91-8f0c63773f7b\n",
      "[------------------------------------------------->] 10/10"
     ]
    }
   ],
   "source": [
    "eval_config = RunEvalConfig(evaluators=[\"cot_qa\"], input_key=\"search_query\")\n",
    "structured_input_dataset_name = \"Structured Inputs\"\n",
    "result = client.run_on_dataset(\n",
    "    dataset_name=structured_input_dataset_name,\n",
    "    llm_or_chain_factory=generate_recommendation,\n",
    "    evaluation=eval_config,\n",
    "    project_name=\"recommendations 001\",\n",
    ")"
   ]
  },
  {
   "cell_type": "markdown",
   "id": "623bb70a",
   "metadata": {},
   "source": [
    "## Dataset Versioning & Metadata\n",
    "\n",
    "Every time an example is created, updated, or deleted, a new dataset version is saved and can be\n",
    "retrieved by querying the examples `as_of` that modified time.\n",
    "\n",
    "You can save \"semantic\" versions of the dataset by tagging specific times with names.\n",
    "\n",
    "A tag can be assigned to at most 1 version at a time."
   ]
  },
  {
   "cell_type": "code",
   "execution_count": 34,
   "id": "aa1d4408",
   "metadata": {
    "tags": []
   },
   "outputs": [
    {
     "data": {
      "text/plain": [
       "13"
      ]
     },
     "execution_count": 34,
     "metadata": {},
     "output_type": "execute_result"
    }
   ],
   "source": [
    "import datetime\n",
    "dataset_name = \"Toxic Queries Dataset\"\n",
    "\n",
    "examples = list(client.list_examples(dataset_name=dataset_name))\n",
    "initial_time = max([e.modified_at for e in examples])\n",
    "len(examples)"
   ]
  },
  {
   "cell_type": "code",
   "execution_count": 35,
   "id": "d2554c19",
   "metadata": {
    "tags": []
   },
   "outputs": [],
   "source": [
    "example = client.create_example(\n",
    "    inputs={\"text\": \"hi there\"},\n",
    "    outputs={\"label\": \"Not toxic\"},\n",
    "    metadata={\"recent\": True},\n",
    "    dataset_name=dataset_name,\n",
    ")"
   ]
  },
  {
   "cell_type": "code",
   "execution_count": 36,
   "id": "eeb2f1c4",
   "metadata": {
    "tags": []
   },
   "outputs": [
    {
     "data": {
      "text/plain": [
       "14"
      ]
     },
     "execution_count": 36,
     "metadata": {},
     "output_type": "execute_result"
    }
   ],
   "source": [
    "len(\n",
    "    list(\n",
    "        client.list_examples(\n",
    "            dataset_name=dataset_name,\n",
    "            as_of=datetime.datetime.now(tz=datetime.timezone.utc),\n",
    "        )\n",
    "    )\n",
    ")"
   ]
  },
  {
   "cell_type": "code",
   "execution_count": 37,
   "id": "88b9e929",
   "metadata": {
    "tags": []
   },
   "outputs": [
    {
     "data": {
      "text/plain": [
       "13"
      ]
     },
     "execution_count": 37,
     "metadata": {},
     "output_type": "execute_result"
    }
   ],
   "source": [
    "# Check for the time at which we first ran\n",
    "len(\n",
    "    list(\n",
    "        client.list_examples(\n",
    "            dataset_name=dataset_name, as_of=initial_time,\n",
    "        )\n",
    "    )\n",
    ")"
   ]
  },
  {
   "cell_type": "code",
   "execution_count": 41,
   "id": "443605c6-9136-4e9a-a66e-cb36fd470610",
   "metadata": {
    "tags": []
   },
   "outputs": [],
   "source": [
    "# You can tag a specific dataset version with a semantic name, like \"prod\"\n",
    "client.update_dataset_tag(dataset_name=dataset_name, as_of=initial_time, tag=\"prod\")"
   ]
  },
  {
   "cell_type": "code",
   "execution_count": 42,
   "id": "337aa46d-b975-4b25-b029-931c0690cc79",
   "metadata": {
    "tags": []
   },
   "outputs": [
    {
     "data": {
      "text/plain": [
       "13"
      ]
     },
     "execution_count": 42,
     "metadata": {},
     "output_type": "execute_result"
    }
   ],
   "source": [
    "# You can then query the dataset for that version\n",
    "len(\n",
    "    list(\n",
    "        client.list_examples(\n",
    "            dataset_name=dataset_name, as_of=\"prod\",\n",
    "        )\n",
    "    )\n",
    ")"
   ]
  },
  {
   "cell_type": "code",
   "execution_count": 43,
   "id": "ecad6113-f6c1-4aad-a4a7-551de71b9a37",
   "metadata": {
    "tags": []
   },
   "outputs": [
    {
     "name": "stdout",
     "output_type": "stream",
     "text": [
      "View the evaluation results for project 'formal-family-95' at:\n",
      "https://dev.smith.langchain.com/o/2391ef44-10d2-4028-835d-683b613b3081/datasets/03759dfb-7b9d-4397-a534-5a87b9926577/compare?selectedSessions=824ffa00-f98e-44ee-8352-02e77c5d7aea\n",
      "\n",
      "View all tests for Dataset Toxic Queries Dataset at:\n",
      "https://dev.smith.langchain.com/o/2391ef44-10d2-4028-835d-683b613b3081/datasets/03759dfb-7b9d-4397-a534-5a87b9926577\n",
      "[------------------------------------------------->] 13/13"
     ]
    }
   ],
   "source": [
    "# You can then use tags to continue to evaluate on the same version of a dataset\n",
    "# Only updating your testing flow once you are ready to commit to a new version\n",
    "eval_config = RunEvalConfig(\n",
    "    custom_evaluators=[correct_label], session_evaluators=[session_eval]\n",
    ")\n",
    "result = client.run_on_dataset(\n",
    "    dataset_name=toxic_dataset_name,\n",
    "    llm_or_chain_factory=label_query,\n",
    "    evaluation=eval_config,\n",
    "    # Evaluate on the 'prod' version of the dataset\n",
    "    dataset_version=\"prod\",\n",
    "    project_metadata={\n",
    "        \"prompt_version\": \"001\",\n",
    "    },\n",
    ")"
   ]
  },
  {
   "cell_type": "markdown",
   "id": "c1275901",
   "metadata": {},
   "source": [
    "# Cache"
   ]
  },
  {
   "cell_type": "code",
   "execution_count": 44,
   "id": "0506d0e5",
   "metadata": {
    "tags": []
   },
   "outputs": [],
   "source": [
    "from openai import OpenAI\n",
    "from langsmith import wrappers, traceable\n",
    "\n",
    "openai = wrappers.wrap_openai(\n",
    "    OpenAI(\n",
    "        base_url=\"https://eks.smith.langchain.dev/proxy/openai/\",\n",
    "        # default_headers={\"Cache-Control\": \"no-store\"}\n",
    "    )\n",
    ")"
   ]
  },
  {
   "cell_type": "code",
   "execution_count": 45,
   "id": "454ef8c4",
   "metadata": {
    "tags": []
   },
   "outputs": [],
   "source": [
    "system_prompt = (\n",
    "    \"\"\"Generate a three paragraph description of a movie about this topic: {topic}.\"\"\"\n",
    ")\n",
    "\n",
    "\n",
    "@traceable\n",
    "def generate_movie(topic):\n",
    "    messages = [\n",
    "        {\"role\": \"user\", \"content\": system_prompt.format(topic=topic)},\n",
    "    ]\n",
    "    result = openai.chat.completions.create(\n",
    "        messages=messages, model=\"gpt-3.5-turbo-0613\", tools=tools\n",
    "    )\n",
    "    return result.choices[0].message"
   ]
  },
  {
   "cell_type": "code",
   "execution_count": 46,
   "id": "f68bbbf0",
   "metadata": {
    "tags": []
   },
   "outputs": [],
   "source": [
    "@traceable\n",
    "def generate_title(description):\n",
    "    messages = [\n",
    "        {\n",
    "            \"role\": \"user\",\n",
    "            \"content\": f\"Generate a title for the following movie description:\\n\\n{description}\",\n",
    "        },\n",
    "    ]\n",
    "    result = openai.chat.completions.create(\n",
    "        messages=messages, model=\"gpt-3.5-turbo-0613\", tools=tools\n",
    "    )\n",
    "    return result.choices[0].message"
   ]
  },
  {
   "cell_type": "code",
   "execution_count": 47,
   "id": "b2734044",
   "metadata": {
    "tags": []
   },
   "outputs": [],
   "source": [
    "@traceable\n",
    "def pipeline(topic):\n",
    "    description = generate_movie(topic)\n",
    "    title = generate_title(description)\n",
    "    return {\"description\": description, \"title\": title}"
   ]
  },
  {
   "cell_type": "code",
   "execution_count": 48,
   "id": "25038102",
   "metadata": {
    "tags": []
   },
   "outputs": [],
   "source": [
    "movie_creation_examples = [\"soccer\", \"a pop star\", \"action movie in venice\"]\n",
    "\n",
    "movie_creation_dataset_name = \"Movie Creation Dataset\"\n",
    "movie_dataset = client.create_dataset(dataset_name=movie_creation_dataset_name)\n",
    "for topic in movie_creation_examples:\n",
    "    client.create_example(inputs={\"topic\": topic}, dataset_id=movie_dataset.id)"
   ]
  },
  {
   "cell_type": "code",
   "execution_count": 50,
   "id": "f25215f2",
   "metadata": {
    "tags": []
   },
   "outputs": [
    {
     "name": "stdout",
     "output_type": "stream",
     "text": [
      "View the evaluation results for project 'helpful-growth-46' at:\n",
      "https://dev.smith.langchain.com/o/2391ef44-10d2-4028-835d-683b613b3081/datasets/f63f6e56-c05c-4c97-919f-abfc5d452909/compare?selectedSessions=beea0136-0e59-43cf-809a-ea61806bcd9d\n",
      "\n",
      "View all tests for Dataset Movie Creation Dataset at:\n",
      "https://dev.smith.langchain.com/o/2391ef44-10d2-4028-835d-683b613b3081/datasets/f63f6e56-c05c-4c97-919f-abfc5d452909\n",
      "[------------------------------------------------->] 3/3"
     ]
    }
   ],
   "source": [
    "result = client.run_on_dataset(\n",
    "    dataset_name=movie_creation_dataset_name,\n",
    "    llm_or_chain_factory=pipeline,\n",
    "    project_metadata={\n",
    "        \"prompt_version\": \"1\",\n",
    "    }\n",
    ")"
   ]
  },
  {
   "cell_type": "code",
   "execution_count": 51,
   "id": "ad7ae07e",
   "metadata": {
    "tags": []
   },
   "outputs": [],
   "source": [
    "@traceable\n",
    "def generate_title(description):\n",
    "    messages = [\n",
    "        {\n",
    "            \"role\": \"user\",\n",
    "            \"content\": f\"Generate a title in SPANISH for the following movie description:\\n\\n{description}\",\n",
    "        },\n",
    "    ]\n",
    "    result = openai.chat.completions.create(\n",
    "        messages=messages, model=\"gpt-3.5-turbo-0613\", tools=tools\n",
    "    )\n",
    "    return result.choices[0].message"
   ]
  },
  {
   "cell_type": "code",
   "execution_count": 52,
   "id": "09b5eeb8",
   "metadata": {
    "tags": []
   },
   "outputs": [],
   "source": [
    "@traceable\n",
    "def pipeline(topic):\n",
    "    description = generate_movie(topic)\n",
    "    title = generate_title(description)\n",
    "    return {\"description\": description, \"title\": title}"
   ]
  },
  {
   "cell_type": "code",
   "execution_count": 54,
   "id": "27846f9b",
   "metadata": {
    "tags": []
   },
   "outputs": [
    {
     "name": "stdout",
     "output_type": "stream",
     "text": [
      "View the evaluation results for project 'excellent-corn-48' at:\n",
      "https://dev.smith.langchain.com/o/2391ef44-10d2-4028-835d-683b613b3081/datasets/f63f6e56-c05c-4c97-919f-abfc5d452909/compare?selectedSessions=d4e1481f-3baf-47f5-8454-5608e9ed7049\n",
      "\n",
      "View all tests for Dataset Movie Creation Dataset at:\n",
      "https://dev.smith.langchain.com/o/2391ef44-10d2-4028-835d-683b613b3081/datasets/f63f6e56-c05c-4c97-919f-abfc5d452909\n",
      "[------------------------------------------------->] 3/3"
     ]
    }
   ],
   "source": [
    "result = client.run_on_dataset(\n",
    "    dataset_name=movie_creation_dataset_name,\n",
    "    llm_or_chain_factory=pipeline,\n",
    "    project_metadata={\n",
    "        \"prompt_version\": \"2\",\n",
    "    }\n",
    ")"
   ]
  }
 ],
 "metadata": {
  "kernelspec": {
   "display_name": "Python 3 (ipykernel)",
   "language": "python",
   "name": "python3"
  },
  "language_info": {
   "codemirror_mode": {
    "name": "ipython",
    "version": 3
   },
   "file_extension": ".py",
   "mimetype": "text/x-python",
   "name": "python",
   "nbconvert_exporter": "python",
   "pygments_lexer": "ipython3",
   "version": "3.11.2"
  }
 },
 "nbformat": 4,
 "nbformat_minor": 5
}
